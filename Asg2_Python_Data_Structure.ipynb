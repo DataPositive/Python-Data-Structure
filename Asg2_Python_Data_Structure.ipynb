{
  "nbformat": 4,
  "nbformat_minor": 0,
  "metadata": {
    "colab": {
      "provenance": []
    },
    "kernelspec": {
      "name": "python3",
      "display_name": "Python 3"
    },
    "language_info": {
      "name": "python"
    }
  },
  "cells": [
    {
      "cell_type": "markdown",
      "source": [
        "#THEORY QUESTIONS"
      ],
      "metadata": {
        "id": "HFSosU11FPi_"
      }
    },
    {
      "cell_type": "markdown",
      "source": [
        "### 1. **What are data structures, and why are they important?**  \n",
        "Data structures are organized methods to store, access, and manipulate data efficiently. They are important for solving complex problems, enhancing performance, and optimizing memory usage.\n",
        "\n",
        "### 2. **Explain the difference between mutable and immutable data types with examples.**  \n",
        "Mutable types can be changed after creation (e.g., `list`, `dict`), while immutable types cannot (e.g., `int`, `tuple`). For example, a `list` can have elements added, but a `tuple` cannot.\n",
        "\n",
        "### 3. **What are the main differences between lists and tuples in Python?**  \n",
        "Lists are mutable, dynamic, and can be modified, while tuples are immutable, fixed in size, and faster for iteration.\n",
        "\n",
        "### 4. **Describe how dictionaries store data.**  \n",
        "Dictionaries store data as key-value pairs in a hash table, allowing for fast lookups by computing a hash of the key.\n",
        "\n",
        "### 5. **Why might you use a set instead of a list in Python?**  \n",
        "Sets are used to store unique elements and perform operations like union or intersection efficiently, whereas lists allow duplicates.\n",
        "\n",
        "### 6. **What is a string in Python, and how is it different from a list?**  \n",
        "A string is an immutable sequence of characters, while a list is a mutable sequence that can store multiple data types.\n",
        "\n",
        "### 7. **How do tuples ensure data integrity in Python?**  \n",
        "Tuples are immutable, so their contents cannot be altered after creation, ensuring consistent and unmodifiable data.\n",
        "\n",
        "### 8. **What is a hash table, and how does it relate to dictionaries in Python?**  \n",
        "A hash table is a data structure that maps keys to values using a hash function. Dictionaries in Python use hash tables to enable quick key-value lookups.\n",
        "\n",
        "### 9. **Can lists contain different data types in Python?**  \n",
        "Yes, Python lists can store elements of different data types, such as integers, strings, and even other lists.\n",
        "\n",
        "### 10. **Explain why strings are immutable in Python.**  \n",
        "Strings are immutable to enhance performance and security, allowing them to be safely shared and reused without unintended modifications.\n",
        "\n",
        "### 11. **What advantages do dictionaries offer over lists for certain tasks?**  \n",
        "Dictionaries provide fast key-based lookups and are more efficient than lists for associating and retrieving related data.\n",
        "\n",
        "### 12. **How do sets handle duplicate values in Python?**  \n",
        "Sets automatically remove duplicate values, ensuring all elements are unique.\n",
        "\n",
        "### 13. **Describe a scenario where using a tuple would be preferable over a list.**  \n",
        "Tuples are preferable when the data should not change, such as storing coordinates (x, y) or defining constants.\n",
        "\n",
        "### 14. **How does the “in” keyword work differently for lists and dictionaries?**  \n",
        "For lists, `in` checks for a value; for dictionaries, `in` checks for the existence of a key.\n",
        "\n",
        "### 15. **Can you modify the elements of a tuple? Explain why or why not.**  \n",
        "No, tuples are immutable, so their elements cannot be changed, ensuring data consistency.\n",
        "\n",
        "### 16. **What is a nested dictionary, and give an example of its use case.**  \n",
        "A nested dictionary is a dictionary within another dictionary, useful for hierarchical data like storing student grades by subject.\n",
        "\n",
        "### 17. **Describe the time complexity of accessing elements in a dictionary.**  \n",
        "Accessing elements in a dictionary has an average time complexity of \\(O(1)\\) due to hash-based lookups.\n",
        "\n",
        "### 18. **In what situations are lists preferred over dictionaries?**  \n",
        "Lists are preferred for ordered collections, sequential access, or when elements do not need unique keys.\n",
        "\n",
        "### 19. **Why are dictionaries considered unordered, and how does that affect data retrieval?**  \n",
        "Dictionaries are unordered because they use hashing for key-value storage, meaning retrieval is based on keys, not order.\n",
        "\n",
        "### 20. **Explain the difference between a list and a dictionary in terms of data retrieval.**  \n",
        "Lists retrieve elements by index (position), while dictionaries retrieve values by unique keys, making dictionaries faster for lookups.\n"
      ],
      "metadata": {
        "id": "Envid0tqFXhh"
      }
    },
    {
      "cell_type": "markdown",
      "source": [
        "#PRACTICAL QUESTIONS"
      ],
      "metadata": {
        "id": "KztZf3IUFfwq"
      }
    },
    {
      "cell_type": "code",
      "execution_count": 3,
      "metadata": {
        "colab": {
          "base_uri": "https://localhost:8080/"
        },
        "id": "mBcoqeFuCzVJ",
        "outputId": "14422d4c-34f4-44ed-c14e-cb55e3d82074"
      },
      "outputs": [
        {
          "output_type": "stream",
          "name": "stdout",
          "text": [
            "Aditya\n"
          ]
        }
      ],
      "source": [
        "# Q1. Write a code to create a string with your name and print it\n",
        "name = \"Aditya\"\n",
        "print(name)\n",
        "\n"
      ]
    },
    {
      "cell_type": "code",
      "source": [
        "# Q2. Write a code to find the length of the string \"Hello World\"\n",
        "string_length = len(\"Hello World\")\n",
        "print(string_length)\n",
        "\n"
      ],
      "metadata": {
        "colab": {
          "base_uri": "https://localhost:8080/"
        },
        "id": "c252jd3VGFqO",
        "outputId": "bbbd029f-bd1a-4f30-fefe-dde0dfe25a9e"
      },
      "execution_count": 4,
      "outputs": [
        {
          "output_type": "stream",
          "name": "stdout",
          "text": [
            "11\n"
          ]
        }
      ]
    },
    {
      "cell_type": "code",
      "source": [
        "# Q3. Write a code to slice the first 3 characters from the string \"Python Programming\"\n",
        "sliced_string = \"Python Programming\"[:3]\n",
        "print(sliced_string)\n",
        "\n"
      ],
      "metadata": {
        "colab": {
          "base_uri": "https://localhost:8080/"
        },
        "id": "cEOcnVoxHpCa",
        "outputId": "dbee7e24-7a71-4cb9-e2da-d4709910992d"
      },
      "execution_count": 5,
      "outputs": [
        {
          "output_type": "stream",
          "name": "stdout",
          "text": [
            "Pyt\n"
          ]
        }
      ]
    },
    {
      "cell_type": "code",
      "source": [
        "# Q4. Write a code to convert the string \"hello\" to uppercase\n",
        "uppercase_string = \"hello\".upper()\n",
        "print(uppercase_string)\n",
        "\n"
      ],
      "metadata": {
        "colab": {
          "base_uri": "https://localhost:8080/"
        },
        "id": "w-iHZjQeHo_B",
        "outputId": "04c5da3b-6943-4a53-8727-27973449c02b"
      },
      "execution_count": 6,
      "outputs": [
        {
          "output_type": "stream",
          "name": "stdout",
          "text": [
            "HELLO\n"
          ]
        }
      ]
    },
    {
      "cell_type": "code",
      "source": [
        "# Q5. Write a code to replace the word \"apple\" with \"orange\" in the string \"I like apple\"\n",
        "replaced_string = \"I like apple\".replace(\"apple\", \"orange\")\n",
        "print(replaced_string)\n",
        "\n"
      ],
      "metadata": {
        "colab": {
          "base_uri": "https://localhost:8080/"
        },
        "id": "UPHgZdeAHo8i",
        "outputId": "0cae37b9-fded-4836-8667-020cc49f7730"
      },
      "execution_count": 7,
      "outputs": [
        {
          "output_type": "stream",
          "name": "stdout",
          "text": [
            "I like orange\n"
          ]
        }
      ]
    },
    {
      "cell_type": "code",
      "source": [
        "# Q6. Write a code to create a list with numbers 1 to 5 and print it\n",
        "number_list = [1, 2, 3, 4, 5]\n",
        "print(number_list)\n",
        "\n"
      ],
      "metadata": {
        "colab": {
          "base_uri": "https://localhost:8080/"
        },
        "id": "HdjVNj5ZHo5q",
        "outputId": "276ff5fa-6dd0-433b-be92-af1f63553bcc"
      },
      "execution_count": 8,
      "outputs": [
        {
          "output_type": "stream",
          "name": "stdout",
          "text": [
            "[1, 2, 3, 4, 5]\n"
          ]
        }
      ]
    },
    {
      "cell_type": "code",
      "source": [
        "# Q7. Write a code to append the number 10 to the list [1, 2, 3, 4]\n",
        "list_to_append = [1, 2, 3, 4]\n",
        "list_to_append.append(10)\n",
        "print(list_to_append)\n",
        "\n"
      ],
      "metadata": {
        "colab": {
          "base_uri": "https://localhost:8080/"
        },
        "id": "DH60K6eOHo3D",
        "outputId": "f5db3ae5-65c6-47ff-d5ac-0f0eb1ca886c"
      },
      "execution_count": 9,
      "outputs": [
        {
          "output_type": "stream",
          "name": "stdout",
          "text": [
            "[1, 2, 3, 4, 10]\n"
          ]
        }
      ]
    },
    {
      "cell_type": "code",
      "source": [
        "# Q8. Write a code to remove the number 3 from the list [1, 2, 3, 4, 5]\n",
        "list_to_remove = [1, 2, 3, 4, 5]\n",
        "list_to_remove.remove(3)\n",
        "print(list_to_remove)\n",
        "\n"
      ],
      "metadata": {
        "colab": {
          "base_uri": "https://localhost:8080/"
        },
        "id": "xN1oEj_aHo0K",
        "outputId": "5538dc2c-b060-4da6-cf6f-1f21df6389cd"
      },
      "execution_count": 10,
      "outputs": [
        {
          "output_type": "stream",
          "name": "stdout",
          "text": [
            "[1, 2, 4, 5]\n"
          ]
        }
      ]
    },
    {
      "cell_type": "code",
      "source": [
        "# Q9. Write a code to access the second element in the list ['a', 'b', 'c', 'd']\n",
        "list_access = ['a', 'b', 'c', 'd']\n",
        "second_element = list_access[1]\n",
        "print(second_element)\n",
        "\n"
      ],
      "metadata": {
        "colab": {
          "base_uri": "https://localhost:8080/"
        },
        "id": "2Qiufp7THoxW",
        "outputId": "14ff121c-9f15-43b4-b716-a3e894af9c0c"
      },
      "execution_count": 12,
      "outputs": [
        {
          "output_type": "stream",
          "name": "stdout",
          "text": [
            "b\n"
          ]
        }
      ]
    },
    {
      "cell_type": "code",
      "source": [
        "# Q10. Write a code to reverse the list [10, 20, 30, 40, 50]\n",
        "list_to_reverse = [10, 20, 30, 40, 50]\n",
        "list_to_reverse.reverse()\n",
        "print(list_to_reverse)\n"
      ],
      "metadata": {
        "colab": {
          "base_uri": "https://localhost:8080/"
        },
        "id": "4WPmo9AxHouS",
        "outputId": "d20ddde6-5d5b-4859-c24a-d239aa01585a"
      },
      "execution_count": 13,
      "outputs": [
        {
          "output_type": "stream",
          "name": "stdout",
          "text": [
            "[50, 40, 30, 20, 10]\n"
          ]
        }
      ]
    },
    {
      "cell_type": "code",
      "source": [
        "# Q11. Write a code to create a tuple with the elements 10, 20, 30 and print it.\n",
        "tuple_example = (10, 20, 30)\n",
        "print(tuple_example)"
      ],
      "metadata": {
        "colab": {
          "base_uri": "https://localhost:8080/"
        },
        "id": "dTtL-fhAJf2x",
        "outputId": "8dd56374-49ac-4cae-f31e-2c5a8f829353"
      },
      "execution_count": 14,
      "outputs": [
        {
          "output_type": "stream",
          "name": "stdout",
          "text": [
            "(10, 20, 30)\n"
          ]
        }
      ]
    },
    {
      "cell_type": "code",
      "source": [
        "# Q12. Write a code to access the first element of the tuple ('apple', 'banana', 'cherry').\n",
        "fruits_tuple = ('apple', 'banana', 'cherry')\n",
        "first_element = fruits_tuple[0]\n",
        "print(first_element)\n"
      ],
      "metadata": {
        "colab": {
          "base_uri": "https://localhost:8080/"
        },
        "id": "WOXw_NAEJfzV",
        "outputId": "31429e07-e272-4ab4-d3c4-6275a8732cd0"
      },
      "execution_count": 15,
      "outputs": [
        {
          "output_type": "stream",
          "name": "stdout",
          "text": [
            "apple\n"
          ]
        }
      ]
    },
    {
      "cell_type": "code",
      "source": [
        "# Q13. Write a code to count how many times the number 2 appears in the tuple (1, 2, 3, 2, 4, 2).\n",
        "numbers_tuple = (1, 2, 3, 2, 4, 2)\n",
        "count_2 = numbers_tuple.count(2)\n",
        "print(count_2)\n"
      ],
      "metadata": {
        "colab": {
          "base_uri": "https://localhost:8080/"
        },
        "id": "ZW1_hAOjJfwr",
        "outputId": "53b27534-7ef7-4e35-a925-50bd5a29dca4"
      },
      "execution_count": 16,
      "outputs": [
        {
          "output_type": "stream",
          "name": "stdout",
          "text": [
            "3\n"
          ]
        }
      ]
    },
    {
      "cell_type": "code",
      "source": [
        "# Q14. Write a code to find the index of the element \"cat\" in the tuple ('dog', 'cat', 'rabbit').\n",
        "animals_tuple = ('dog', 'cat', 'rabbit')\n",
        "cat_index = animals_tuple.index('cat')\n",
        "print(cat_index)\n"
      ],
      "metadata": {
        "colab": {
          "base_uri": "https://localhost:8080/"
        },
        "id": "unIhTsN4JfuB",
        "outputId": "9576b5df-655f-47b2-a2a8-93f06c50ae15"
      },
      "execution_count": 17,
      "outputs": [
        {
          "output_type": "stream",
          "name": "stdout",
          "text": [
            "1\n"
          ]
        }
      ]
    },
    {
      "cell_type": "code",
      "source": [
        "# Q15. Write a code to check if the element \"banana\" is in the tuple ('apple', 'orange', 'banana').\n",
        "fruits = ('apple', 'orange', 'banana')\n",
        "is_banana_in_tuple = 'banana' in fruits\n",
        "print(is_banana_in_tuple)\n"
      ],
      "metadata": {
        "colab": {
          "base_uri": "https://localhost:8080/"
        },
        "id": "PevQssi1JfrU",
        "outputId": "954d1f6c-4212-400e-8e65-18fa92871130"
      },
      "execution_count": 18,
      "outputs": [
        {
          "output_type": "stream",
          "name": "stdout",
          "text": [
            "True\n"
          ]
        }
      ]
    },
    {
      "cell_type": "code",
      "source": [
        "\n",
        "# Q16. Write a code to create a set with the elements 1, 2, 3, 4, 5 and print it.\n",
        "set_example = {1, 2, 3, 4, 5}\n",
        "print(set_example)\n"
      ],
      "metadata": {
        "colab": {
          "base_uri": "https://localhost:8080/"
        },
        "id": "P7Y8aLZxJfoo",
        "outputId": "54073743-f3b7-4a14-e49c-9326e80de6bd"
      },
      "execution_count": 19,
      "outputs": [
        {
          "output_type": "stream",
          "name": "stdout",
          "text": [
            "{1, 2, 3, 4, 5}\n"
          ]
        }
      ]
    },
    {
      "cell_type": "code",
      "source": [
        "# Q17. Write a code to add the element 6 to the set {1, 2, 3, 4}.\n",
        "set_to_add = {1, 2, 3, 4}\n",
        "set_to_add.add(6)\n",
        "print(set_to_add)\n"
      ],
      "metadata": {
        "colab": {
          "base_uri": "https://localhost:8080/"
        },
        "id": "X65cr-RZJfln",
        "outputId": "6288a46c-9232-4a08-90b2-438dea9a2809"
      },
      "execution_count": 20,
      "outputs": [
        {
          "output_type": "stream",
          "name": "stdout",
          "text": [
            "{1, 2, 3, 4, 6}\n"
          ]
        }
      ]
    },
    {
      "cell_type": "code",
      "source": [
        "# Q18. Write a code to create a tuple with the elements 10, 20, 30 and print it.\n",
        "#repeated"
      ],
      "metadata": {
        "id": "APGT0uy_Jfi_"
      },
      "execution_count": 34,
      "outputs": []
    },
    {
      "cell_type": "code",
      "source": [
        "\n",
        "# Q19. Write a code to access the first element of the tuple ('apple', 'banana', 'cherry').\n",
        "#repeated"
      ],
      "metadata": {
        "id": "EZi4z9EcJfgK"
      },
      "execution_count": 33,
      "outputs": []
    },
    {
      "cell_type": "code",
      "source": [
        "# Q20. Write a code to count how many times the number 2 appears in the tuple (1, 2, 3, 2, 4, 2).\n",
        "#repeated"
      ],
      "metadata": {
        "id": "6ETfvOOzJfdB"
      },
      "execution_count": 32,
      "outputs": []
    },
    {
      "cell_type": "code",
      "source": [
        "\n",
        "# Q21. Write a code to find the index of the element \"cat\" in the tuple ('dog', 'cat', 'rabbit').\n",
        "#repeated"
      ],
      "metadata": {
        "id": "XWw_GPH4Jfad"
      },
      "execution_count": 31,
      "outputs": []
    },
    {
      "cell_type": "code",
      "source": [
        "# Q22. Write a code to check if the element \"banana\" is in the tuple ('apple', 'orange', 'banana').\n",
        "#repeated"
      ],
      "metadata": {
        "id": "VWozuFHoJfXi"
      },
      "execution_count": 30,
      "outputs": []
    },
    {
      "cell_type": "code",
      "source": [
        "# Q23. Write a code to create a set with the elements 1, 2, 3, 4, 5 and print it.\n",
        "#repeated"
      ],
      "metadata": {
        "id": "ZOgYFozgJfUv"
      },
      "execution_count": 29,
      "outputs": []
    },
    {
      "cell_type": "code",
      "source": [
        "# Q24. Write a code to add the element 6 to the set {1, 2, 3, 4}.\n",
        "#repeated"
      ],
      "metadata": {
        "id": "8kwVlUbAJfR_"
      },
      "execution_count": 28,
      "outputs": []
    },
    {
      "cell_type": "code",
      "source": [],
      "metadata": {
        "id": "lgyc3Qo_K004"
      },
      "execution_count": null,
      "outputs": []
    }
  ]
}